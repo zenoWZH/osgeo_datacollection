{
 "cells": [
  {
   "cell_type": "code",
   "execution_count": 12,
   "source": [
    "import pandas as pd\n",
    "import numpy as np\n",
    "import gc\n",
    "import logging\n",
    "\n",
    "from config.database import HOST, PORT, USER, PASSWORD, DATABASE\n",
    "\n",
    "import psycopg2\n",
    "from sqlalchemy import create_engine\n",
    "from sqlalchemy import types as sqltype\n",
    "from config.database import HOST, PORT, USER, PASSWORD, DATABASE\n",
    "\n",
    "psql_engine = create_engine(\"postgresql://\"+USER+\":\"+PASSWORD+\"@\"+HOST+\":\"+str(PORT)+\"/\"+DATABASE)"
   ],
   "outputs": [],
   "metadata": {}
  },
  {
   "cell_type": "code",
   "execution_count": 13,
   "source": [
    "with psql_engine.connect() as conn:\n",
    "    df = pd.read_sql(\"SELECT thread_id FROM thread WHERE thread_type='email';\", con= conn)"
   ],
   "outputs": [],
   "metadata": {}
  },
  {
   "cell_type": "code",
   "execution_count": 14,
   "source": [
    "df"
   ],
   "outputs": [
    {
     "output_type": "execute_result",
     "data": {
      "text/html": [
       "<div>\n",
       "<style scoped>\n",
       "    .dataframe tbody tr th:only-of-type {\n",
       "        vertical-align: middle;\n",
       "    }\n",
       "\n",
       "    .dataframe tbody tr th {\n",
       "        vertical-align: top;\n",
       "    }\n",
       "\n",
       "    .dataframe thead th {\n",
       "        text-align: right;\n",
       "    }\n",
       "</style>\n",
       "<table border=\"1\" class=\"dataframe\">\n",
       "  <thead>\n",
       "    <tr style=\"text-align: right;\">\n",
       "      <th></th>\n",
       "      <th>thread_id</th>\n",
       "    </tr>\n",
       "  </thead>\n",
       "  <tbody>\n",
       "    <tr>\n",
       "      <th>0</th>\n",
       "      <td>gdal#176#CD24931C.4A065%%michael.smith@usace.a...</td>\n",
       "    </tr>\n",
       "    <tr>\n",
       "      <th>1</th>\n",
       "      <td>gdal#131#CD24931C.4A065%%michael.smith@usace.a...</td>\n",
       "    </tr>\n",
       "    <tr>\n",
       "      <th>2</th>\n",
       "      <td>gdal#34#CAD7F3EC.18D7B%%michael.smith@usace.ar...</td>\n",
       "    </tr>\n",
       "    <tr>\n",
       "      <th>3</th>\n",
       "      <td>gdal#11#D2D5A00C.321C5%%benjamin.stadin@heidel...</td>\n",
       "    </tr>\n",
       "    <tr>\n",
       "      <th>4</th>\n",
       "      <td>gdal#16#D2D5B596.3221B%%benjamin.stadin@heidel...</td>\n",
       "    </tr>\n",
       "    <tr>\n",
       "      <th>...</th>\n",
       "      <td>...</td>\n",
       "    </tr>\n",
       "    <tr>\n",
       "      <th>180266</th>\n",
       "      <td>grass#53#199306211312.AA23365@zorro.cecer.army...</td>\n",
       "    </tr>\n",
       "    <tr>\n",
       "      <th>180267</th>\n",
       "      <td>grass#320#041.7e7468d0484daac1e013453d6b2da9ad...</td>\n",
       "    </tr>\n",
       "    <tr>\n",
       "      <th>180268</th>\n",
       "      <td>grass#54#9306211631.AA22823@cast.uark.edu</td>\n",
       "    </tr>\n",
       "    <tr>\n",
       "      <th>180269</th>\n",
       "      <td>grass#55#9306221711.AA08627@nps</td>\n",
       "    </tr>\n",
       "    <tr>\n",
       "      <th>180270</th>\n",
       "      <td>grass#56#9306221952.AA09097@nps</td>\n",
       "    </tr>\n",
       "  </tbody>\n",
       "</table>\n",
       "<p>180271 rows × 1 columns</p>\n",
       "</div>"
      ],
      "text/plain": [
       "                                                thread_id\n",
       "0       gdal#176#CD24931C.4A065%%michael.smith@usace.a...\n",
       "1       gdal#131#CD24931C.4A065%%michael.smith@usace.a...\n",
       "2       gdal#34#CAD7F3EC.18D7B%%michael.smith@usace.ar...\n",
       "3       gdal#11#D2D5A00C.321C5%%benjamin.stadin@heidel...\n",
       "4       gdal#16#D2D5B596.3221B%%benjamin.stadin@heidel...\n",
       "...                                                   ...\n",
       "180266  grass#53#199306211312.AA23365@zorro.cecer.army...\n",
       "180267  grass#320#041.7e7468d0484daac1e013453d6b2da9ad...\n",
       "180268          grass#54#9306211631.AA22823@cast.uark.edu\n",
       "180269                    grass#55#9306221711.AA08627@nps\n",
       "180270                    grass#56#9306221952.AA09097@nps\n",
       "\n",
       "[180271 rows x 1 columns]"
      ]
     },
     "metadata": {},
     "execution_count": 14
    }
   ],
   "metadata": {}
  },
  {
   "cell_type": "code",
   "execution_count": 16,
   "source": [
    "df[df.where(df[\"thread_id\"]==\"fdo-internals#1#D20FC5C02CA4AB41891CFE76D91C57A9384F6D8C4E@ADSK-NAMSG-02.MGDADSK.autodesk.com\")].drop_duplicates()"
   ],
   "outputs": [
    {
     "output_type": "execute_result",
     "data": {
      "text/html": [
       "<div>\n",
       "<style scoped>\n",
       "    .dataframe tbody tr th:only-of-type {\n",
       "        vertical-align: middle;\n",
       "    }\n",
       "\n",
       "    .dataframe tbody tr th {\n",
       "        vertical-align: top;\n",
       "    }\n",
       "\n",
       "    .dataframe thead th {\n",
       "        text-align: right;\n",
       "    }\n",
       "</style>\n",
       "<table border=\"1\" class=\"dataframe\">\n",
       "  <thead>\n",
       "    <tr style=\"text-align: right;\">\n",
       "      <th></th>\n",
       "      <th>thread_id</th>\n",
       "    </tr>\n",
       "  </thead>\n",
       "  <tbody>\n",
       "    <tr>\n",
       "      <th>0</th>\n",
       "      <td>NaN</td>\n",
       "    </tr>\n",
       "  </tbody>\n",
       "</table>\n",
       "</div>"
      ],
      "text/plain": [
       "  thread_id\n",
       "0       NaN"
      ]
     },
     "metadata": {},
     "execution_count": 16
    }
   ],
   "metadata": {}
  },
  {
   "cell_type": "code",
   "execution_count": null,
   "source": [
    "with psql_engine.connect() as conn:\n",
    "    count_num = 0\n",
    "    for thisid in df['thread_id'].values :\n",
    "        sql = \"\"\" DELETE FROM thread WHERE thread_id='%s'\"\"\" %(thisid)\n",
    "        conn.execute(sql)\n",
    "        count_num+= 1\n",
    "        if not(count_num%1000) :\n",
    "            print(\"Delete:\", count_num)\n"
   ],
   "outputs": [],
   "metadata": {}
  },
  {
   "cell_type": "code",
   "execution_count": null,
   "source": [
    "\n",
    "\n",
    "    "
   ],
   "outputs": [],
   "metadata": {}
  }
 ],
 "metadata": {
  "orig_nbformat": 4,
  "language_info": {
   "name": "python",
   "version": "3.6.13",
   "mimetype": "text/x-python",
   "codemirror_mode": {
    "name": "ipython",
    "version": 3
   },
   "pygments_lexer": "ipython3",
   "nbconvert_exporter": "python",
   "file_extension": ".py"
  },
  "kernelspec": {
   "name": "python3",
   "display_name": "Python 3.6.13 64-bit ('3.6.13': pyenv)"
  },
  "interpreter": {
   "hash": "98373a4284e4a564d4f2df06473808b29be6466d133612bf3acd704edfd754d1"
  }
 },
 "nbformat": 4,
 "nbformat_minor": 2
}