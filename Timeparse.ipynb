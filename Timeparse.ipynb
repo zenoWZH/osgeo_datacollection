{
 "cells": [
  {
   "cell_type": "code",
   "execution_count": 2,
   "id": "19ec3e90-4636-4f7d-9fd7-b068dd9ca3ac",
   "metadata": {},
   "outputs": [],
   "source": [
    "import time"
   ]
  },
  {
   "cell_type": "code",
   "execution_count": 8,
   "id": "2e598ee0-8933-4e91-8270-89ce1967656e",
   "metadata": {},
   "outputs": [],
   "source": [
    "t = \"Wed Sep  1 17:23:19 2010\""
   ]
  },
  {
   "cell_type": "code",
   "execution_count": 9,
   "id": "f8d6c76e-67bf-4151-b001-c7ce8dc5e721",
   "metadata": {},
   "outputs": [],
   "source": [
    "tsp = time.strptime(t, \"%a %b %d %H:%M:%S %Y\")"
   ]
  },
  {
   "cell_type": "code",
   "execution_count": 10,
   "id": "6d063d24-75a6-4810-b963-e96f340a48a9",
   "metadata": {},
   "outputs": [
    {
     "data": {
      "text/plain": [
       "time.struct_time(tm_year=2010, tm_mon=9, tm_mday=1, tm_hour=17, tm_min=23, tm_sec=19, tm_wday=2, tm_yday=244, tm_isdst=-1)"
      ]
     },
     "execution_count": 10,
     "metadata": {},
     "output_type": "execute_result"
    }
   ],
   "source": [
    "tsp"
   ]
  },
  {
   "cell_type": "code",
   "execution_count": 11,
   "id": "5e61bba3-73dd-4e10-91e3-7ace9b2b08bc",
   "metadata": {},
   "outputs": [],
   "source": [
    "t = \"Wed, 2 Apr 2014 22:55:01 -0700 (PDT)\""
   ]
  },
  {
   "cell_type": "code",
   "execution_count": 31,
   "id": "c62774af-6250-4fb8-b527-fec514713d2c",
   "metadata": {},
   "outputs": [],
   "source": [
    "tsp = time.strptime(t.split('(')[0].replace(\",\",\"\"), \"%a %d %b %Y %H:%M:%S %z \")"
   ]
  },
  {
   "cell_type": "code",
   "execution_count": 32,
   "id": "c2f83ee2-52b3-45bd-9784-5988b38d5f9e",
   "metadata": {},
   "outputs": [
    {
     "data": {
      "text/plain": [
       "time.struct_time(tm_year=2014, tm_mon=4, tm_mday=2, tm_hour=22, tm_min=55, tm_sec=1, tm_wday=2, tm_yday=92, tm_isdst=-1)"
      ]
     },
     "execution_count": 32,
     "metadata": {},
     "output_type": "execute_result"
    }
   ],
   "source": [
    "tsp"
   ]
  },
  {
   "cell_type": "code",
   "execution_count": 39,
   "id": "e130bc8a-5f4b-4f29-a255-9431bdbe769f",
   "metadata": {},
   "outputs": [
    {
     "data": {
      "text/plain": [
       "'2014-04-02 22:55:01'"
      ]
     },
     "execution_count": 39,
     "metadata": {},
     "output_type": "execute_result"
    }
   ],
   "source": [
    "time.strftime('%Y-%m-%d %H:%M:%S',tsp)"
   ]
  },
  {
   "cell_type": "code",
   "execution_count": 37,
   "id": "ee75ffd9-4d82-444f-9187-46672898b31c",
   "metadata": {},
   "outputs": [],
   "source": [
    "import datetime"
   ]
  },
  {
   "cell_type": "code",
   "execution_count": null,
   "id": "9ef43462-3701-464a-ae57-e4d0d1df2743",
   "metadata": {},
   "outputs": [],
   "source": [
    "%Y-%m-%d %H:%M:%S"
   ]
  },
  {
   "cell_type": "code",
   "execution_count": null,
   "id": "ed4bd1b0-374d-4a36-9be5-3cda00259d21",
   "metadata": {},
   "outputs": [],
   "source": [
    "Tue 4 Feb 2014 14:28:40 +0100"
   ]
  },
  {
   "cell_type": "code",
   "execution_count": 1,
   "id": "df4be83b-aec2-4756-97c3-cba9a6223306",
   "metadata": {},
   "outputs": [],
   "source": [
    "t = \"Fri 06 Sep 2013 11:51:21 +0200\""
   ]
  },
  {
   "cell_type": "code",
   "execution_count": 3,
   "id": "b5210746-5d6b-41c7-8424-0475067fef23",
   "metadata": {},
   "outputs": [],
   "source": [
    "tsp = time.strptime(t.split('(')[0].replace(\",\",\"\"), \"%a %d %b %Y %H:%M:%S %z\")"
   ]
  },
  {
   "cell_type": "code",
   "execution_count": 4,
   "id": "dfbdb3ed-2f03-4f9e-b6eb-6f01186a0421",
   "metadata": {},
   "outputs": [
    {
     "data": {
      "text/plain": [
       "time.struct_time(tm_year=2013, tm_mon=9, tm_mday=6, tm_hour=11, tm_min=51, tm_sec=21, tm_wday=4, tm_yday=249, tm_isdst=-1)"
      ]
     },
     "execution_count": 4,
     "metadata": {},
     "output_type": "execute_result"
    }
   ],
   "source": [
    "tsp"
   ]
  },
  {
   "cell_type": "code",
   "execution_count": 9,
   "id": "d16c8c5a-2ad7-43b8-b720-0bd4ec47deef",
   "metadata": {},
   "outputs": [],
   "source": [
    "t = \"Fri 13 Aug 2016 06:38:56 0000\""
   ]
  },
  {
   "cell_type": "code",
   "execution_count": 12,
   "id": "f1d48898-f17b-457f-ae19-1e98c1984ca1",
   "metadata": {},
   "outputs": [],
   "source": [
    "tsp = time.strptime(t.split('(')[0][:-5].replace(\",\",\"\"), \"%a %d %b %Y %H:%M:%S\")"
   ]
  },
  {
   "cell_type": "code",
   "execution_count": 13,
   "id": "d4b068e7-74c9-4cf5-924c-f8e64e80e9b6",
   "metadata": {},
   "outputs": [],
   "source": [
    "t = \"Tue 02 Aug 2016 09:37 \""
   ]
  },
  {
   "cell_type": "code",
   "execution_count": 15,
   "id": "dc44acd2-ee2b-47e7-917a-010c0bcd5bf1",
   "metadata": {},
   "outputs": [],
   "source": [
    "tsp = time.strptime(t.split('(')[0].replace(\",\",\"\"), \"%a %d %b %Y %H:%M \")"
   ]
  },
  {
   "cell_type": "code",
   "execution_count": null,
   "id": "27b4c746-6421-4f1d-a20d-46742cd1446c",
   "metadata": {},
   "outputs": [],
   "source": []
  }
 ],
 "metadata": {
  "kernelspec": {
   "display_name": "Python 3",
   "language": "python",
   "name": "python3"
  },
  "language_info": {
   "codemirror_mode": {
    "name": "ipython",
    "version": 3
   },
   "file_extension": ".py",
   "mimetype": "text/x-python",
   "name": "python",
   "nbconvert_exporter": "python",
   "pygments_lexer": "ipython3",
   "version": "3.6.13"
  }
 },
 "nbformat": 4,
 "nbformat_minor": 5
}
