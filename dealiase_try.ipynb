{
 "cells": [
  {
   "cell_type": "code",
   "execution_count": 2,
   "metadata": {},
   "outputs": [],
   "source": [
    "import modin.pandas as mipd\n",
    "import os\n",
    "import time\n",
    "import pandas as pd\n",
    "from tqdm import tqdm\n",
    "import re"
   ]
  },
  {
   "cell_type": "markdown",
   "metadata": {},
   "source": [
    "## Preprocessing from Likang's"
   ]
  },
  {
   "cell_type": "code",
   "execution_count": 3,
   "metadata": {},
   "outputs": [],
   "source": [
    "def partial_de_alising(author_name):\n",
    "    return str(alias_dict.get(author_name, author_name)).lower().strip()\n",
    "\n",
    "def preprocess_name(name):\n",
    "    # remove nan\n",
    "    if pd.isna(name):\n",
    "        return name\n",
    "    # if it is an email, take only the user domain\n",
    "    name = name.split('@')[0]\n",
    "    # remove text within brakets and parentheses\n",
    "    name = re.sub(r\"[\\(\\[].*?[\\)\\]]\", \"\", name)\n",
    "    # some names are of this pattern: \"sg $ $date: 2008/10/07 10:18:51 $\"\n",
    "    if '$' in name:\n",
    "        name = name.split('$')[0]\n",
    "    # remove non-alphanumeric chars\n",
    "    name = re.sub(\"[^a-zA-Z ]+\", '', name)\n",
    "    if ' via ' in name:\n",
    "        name = name.split(' via ')[0]\n",
    "    return name.strip()\n",
    "\n",
    "# return True if it is sent by a bot\n",
    "def is_bots(author_name):\n",
    "    return bool(author_name in bots)\n",
    "\n",
    "# return True if it is a coding file\n",
    "def is_coding(file_path):\n",
    "    if pd.isna(file_path):\n",
    "        return False\n",
    "    extension = '.' + file_path.split('/')[-1].split('.')[-1]\n",
    "    return bool(extension in coding_extensions)"
   ]
  },
  {
   "cell_type": "code",
   "execution_count": null,
   "metadata": {},
   "outputs": [],
   "source": []
  }
 ],
 "metadata": {
  "interpreter": {
   "hash": "0c125d54415bf97f751e5832101874a2f084e84c850663dda323e1a70b27f8b7"
  },
  "kernelspec": {
   "display_name": "Python 3.8.10 64-bit ('3.8.10': pyenv)",
   "language": "python",
   "name": "python3"
  },
  "language_info": {
   "codemirror_mode": {
    "name": "ipython",
    "version": 3
   },
   "file_extension": ".py",
   "mimetype": "text/x-python",
   "name": "python",
   "nbconvert_exporter": "python",
   "pygments_lexer": "ipython3",
   "version": "3.8.10"
  },
  "orig_nbformat": 4
 },
 "nbformat": 4,
 "nbformat_minor": 2
}
