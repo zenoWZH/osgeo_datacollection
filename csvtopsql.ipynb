{
 "cells": [
  {
   "cell_type": "code",
   "execution_count": 1,
   "id": "7f5a87ec-6f11-4a2f-9f58-cc76631b02cd",
   "metadata": {},
   "outputs": [],
   "source": [
    "import psycopg2\n",
    "import os\n",
    "import pandas as pd\n",
    "from io import BytesIO, StringIO"
   ]
  },
  {
   "cell_type": "code",
   "execution_count": 2,
   "id": "c20cb48d-85ee-425a-b1b1-e41533410c1b",
   "metadata": {},
   "outputs": [],
   "source": [
    "os.chdir(\"/mnt/data0/proj_osgeo/data\")\n",
    "db_config=open('./db_config')\n",
    "dbHOST=db_config.readline().split('\\\"')[1]\n",
    "dbUSER=db_config.readline().split('\\\"')[1]\n",
    "dbPASS=db_config.readline().split('\\\"')[1]\n",
    "dbDB=db_config.readline().split('\\\"')[1]\n",
    "db_config.close()\n",
    "conn = psycopg2.connect(host=dbHOST,user=dbUSER,password=dbPASS,database=dbDB)\n",
    "conn.commit()\n",
    "cur = conn.cursor()"
   ]
  },
  {
   "cell_type": "code",
   "execution_count": 3,
   "id": "c6fa3cba-03c8-4b6a-95dc-f10879d1ecb7",
   "metadata": {},
   "outputs": [
    {
     "name": "stdout",
     "output_type": "stream",
     "text": [
      "('openlayers',)\n",
      "('pywps',)\n",
      "('pycsw',)\n",
      "('mapserver',)\n",
      "('postgis',)\n",
      "('gdal',)\n",
      "('grass',)\n",
      "('owslib',)\n",
      "('mdal',)\n",
      "('mapbender',)\n",
      "('gisquick',)\n",
      "('fdo-internals',)\n",
      "('mapguide-internals',)\n",
      "('osgeo4w',)\n",
      "('fdo',)\n",
      "('pdal',)\n",
      "('zoo-psc',)\n",
      "('pgrouting',)\n",
      "('osgeolive',)\n",
      "('pygeoapi',)\n",
      "('proj',)\n",
      "('mobilitydb',)\n",
      "('geonode',)\n",
      "('geos',)\n",
      "('gvsig',)\n",
      "('qgis',)\n",
      "                                          message_id  \\\n",
      "0                          493401EB.4080304@comai.to   \n",
      "1                        49341DA3.6030808@m-click.de   \n",
      "2                       49342902.7030904@opengeo.org   \n",
      "3           1228155836800-1599934.post@n2.nabble.com   \n",
      "4                200812012135.17065.yjacolin@free.fr   \n",
      "5                20081201204303.GC9257@metacarta.com   \n",
      "6                200812012148.32781.yjacolin@free.fr   \n",
      "7  6ae3fb590812011544t79ba5d71i83c8348d9ac3a45@ma...   \n",
      "8  6ae3fb590812011617y4a562279uefaf2ef64cd20765@m...   \n",
      "9                    1228194203.6428.19.camel@bender   \n",
      "\n",
      "                                           thread_id  \\\n",
      "0                                                NaN   \n",
      "1                          493401EB.4080304@comai.to   \n",
      "2  5ec103de0811261411od5e30cfoe8709e06e0091956@ma...   \n",
      "3                        49341DA3.6030808@m-click.de   \n",
      "4                                                NaN   \n",
      "5                200812012135.17065.yjacolin@free.fr   \n",
      "6                 20081124201446.GN791@metacarta.com   \n",
      "7  5ec103de0811270921w2ac09698q12a4fc8beb656508@m...   \n",
      "8                                                NaN   \n",
      "9  6ae3fb590812011617y4a562279uefaf2ef64cd20765@m...   \n",
      "\n",
      "               author_aliase_id          author_name  receivers_name  \\\n",
      "0   stefano.bonnin at comai.to        Stefano Bonnin             NaN   \n",
      "1         m.pohl at m-click.de         Matthias Pohl             NaN   \n",
      "2       tschaub at opengeo.org            Tim Schaub             NaN   \n",
      "3     vinci.w.cat at gmail.com                 VR26A             NaN   \n",
      "4          yjacolin at free.fr     Yves Jacolin free             NaN   \n",
      "5   crschmidt at metacarta.com   Christopher Schmidt             NaN   \n",
      "6          yjacolin at free.fr     Yves Jacolin free             NaN   \n",
      "7          euzuro at gmail.com          Erik Uzureau             NaN   \n",
      "8          euzuro at gmail.com          Erik Uzureau             NaN   \n",
      "9  roald.dewit at lisasoft.com          Roald de Wit             NaN   \n",
      "\n",
      "             timestamp                                       message_text  \n",
      "0  2010-09-01 17:24:05  From: stefano.bonnin at comai.to (Stefano Bonn...  \n",
      "1  2010-09-01 17:24:05  From: m.pohl at m-click.de (Matthias Pohl)\\nDa...  \n",
      "2  2010-09-01 17:24:05  From: tschaub at opengeo.org (Tim Schaub)\\nDat...  \n",
      "3  2010-09-01 17:24:05  From: vinci.w.cat at gmail.com (VR26A)\\nDate: ...  \n",
      "4  2010-09-01 17:24:05  From: yjacolin at free.fr (Yves Jacolin (free)...  \n",
      "5  2010-09-01 17:24:05  From: crschmidt at metacarta.com (Christopher ...  \n",
      "6  2010-09-01 17:24:05  From: yjacolin at free.fr (Yves Jacolin (free)...  \n",
      "7  2010-09-01 17:24:05  From: euzuro at gmail.com (Erik Uzureau)\\nDate...  \n",
      "8  2010-09-01 17:24:06  From: euzuro at gmail.com (Erik Uzureau)\\nDate...  \n",
      "9  2010-09-01 17:24:06  From: roald.dewit at lisasoft.com (Roald de Wi...  \n"
     ]
    },
    {
     "ename": "BadCopyFileFormat",
     "evalue": "missing data for column \"thread_id\"\nCONTEXT:  COPY message, line 1: \"493401EB.4080304@comai.to,,stefano.bonnin at comai.to ,Stefano Bonnin,,2010-09-01 17:24:05,\"From: st...\"\n",
     "output_type": "error",
     "traceback": [
      "\u001b[0;31m---------------------------------------------------------------------------\u001b[0m",
      "\u001b[0;31mBadCopyFileFormat\u001b[0m                         Traceback (most recent call last)",
      "\u001b[0;32m<ipython-input-3-d549fe1ddd57>\u001b[0m in \u001b[0;36m<module>\u001b[0;34m\u001b[0m\n\u001b[1;32m     29\u001b[0m     \u001b[0mcur\u001b[0m \u001b[0;34m=\u001b[0m \u001b[0mconn\u001b[0m\u001b[0;34m.\u001b[0m\u001b[0mcursor\u001b[0m\u001b[0;34m(\u001b[0m\u001b[0;34m)\u001b[0m\u001b[0;34m\u001b[0m\u001b[0;34m\u001b[0m\u001b[0m\n\u001b[1;32m     30\u001b[0m     \u001b[0mtable_name1\u001b[0m \u001b[0;34m=\u001b[0m \u001b[0;34m\"message\"\u001b[0m\u001b[0;34m\u001b[0m\u001b[0;34m\u001b[0m\u001b[0m\n\u001b[0;32m---> 31\u001b[0;31m     \u001b[0mcur\u001b[0m\u001b[0;34m.\u001b[0m\u001b[0mcopy_from\u001b[0m\u001b[0;34m(\u001b[0m\u001b[0mStringIO\u001b[0m\u001b[0;34m(\u001b[0m\u001b[0moutput1\u001b[0m\u001b[0;34m)\u001b[0m\u001b[0;34m,\u001b[0m \u001b[0mtable\u001b[0m\u001b[0;34m=\u001b[0m\u001b[0mtable_name1\u001b[0m\u001b[0;34m,\u001b[0m \u001b[0mnull\u001b[0m\u001b[0;34m=\u001b[0m\u001b[0;34m''\u001b[0m\u001b[0;34m,\u001b[0m\u001b[0mcolumns\u001b[0m\u001b[0;34m=\u001b[0m\u001b[0mdata1\u001b[0m\u001b[0;34m.\u001b[0m\u001b[0mcolumns\u001b[0m\u001b[0;34m)\u001b[0m\u001b[0;34m\u001b[0m\u001b[0;34m\u001b[0m\u001b[0m\n\u001b[0m\u001b[1;32m     32\u001b[0m     \u001b[0mconn\u001b[0m\u001b[0;34m.\u001b[0m\u001b[0mcommit\u001b[0m\u001b[0;34m(\u001b[0m\u001b[0;34m)\u001b[0m\u001b[0;34m\u001b[0m\u001b[0;34m\u001b[0m\u001b[0m\n\u001b[1;32m     33\u001b[0m     \u001b[0;31m#cur.close()\u001b[0m\u001b[0;34m\u001b[0m\u001b[0;34m\u001b[0m\u001b[0;34m\u001b[0m\u001b[0m\n",
      "\u001b[0;31mBadCopyFileFormat\u001b[0m: missing data for column \"thread_id\"\nCONTEXT:  COPY message, line 1: \"493401EB.4080304@comai.to,,stefano.bonnin at comai.to ,Stefano Bonnin,,2010-09-01 17:24:05,\"From: st...\"\n"
     ]
    }
   ],
   "source": [
    "DIR = './raw'\n",
    "DIR_csv = './csv'\n",
    "filelist_in=os.listdir(DIR)\n",
    "\n",
    "projs = set()\n",
    "cur.execute(\"select proj_id from project\")\n",
    "result=cur.fetchall()\n",
    "for proj_id in result:\n",
    "    print(proj_id)\n",
    "    projs.add(proj_id[0])\n",
    "\n",
    "\n",
    "for element in filelist_in:\n",
    "    csv_path = DIR_csv+\"/\"+element+'/'\n",
    "    csv_file = csv_path+element+\"_all.csv\"\n",
    "#data1 = pd.DataFrame(data)\n",
    "# dataframe类型转换为IO缓冲区中的str类型\n",
    "\n",
    "    data1 = pd.read_csv(csv_file, index_col= 0)\n",
    "    data1 = data1.loc[:,['message_id', 'thread_id', 'author_aliase_id', 'author_name', 'receivers_name', 'timestamp', 'message_text' ]]\n",
    "    data1.fillna(\"missing\")\n",
    "    print(data1.head(10))\n",
    "    #output = BytesIO()\n",
    "    output = StringIO()\n",
    "    data1.to_csv(output, sep=',', encoding='utf-8', index=False, header=False, columns =data1.columns)\n",
    "    output1 = output.getvalue()\n",
    "\n",
    "    #conn = psycopg2.connect(host=***, user=***, password=***, database=***)\n",
    "    cur = conn.cursor()\n",
    "    table_name1 = \"message\"\n",
    "    cur.copy_from(StringIO(output1), table=table_name1, null='',columns=data1.columns)\n",
    "    conn.commit()\n",
    "    #cur.close()\n",
    "    #conn.close()\n",
    "    print('done')"
   ]
  },
  {
   "cell_type": "code",
   "execution_count": 4,
   "id": "b2398041-9eda-48db-84f3-0de12cbd8256",
   "metadata": {},
   "outputs": [
    {
     "data": {
      "text/plain": [
       "Index(['message_id', 'thread_id', 'author_aliase_id', 'author_name',\n",
       "       'receivers_name', 'timestamp', 'message_text'],\n",
       "      dtype='object')"
      ]
     },
     "execution_count": 4,
     "metadata": {},
     "output_type": "execute_result"
    }
   ],
   "source": [
    "data1.columns"
   ]
  },
  {
   "cell_type": "code",
   "execution_count": null,
   "id": "299f72e0-95e9-45de-aa33-788c0625ac61",
   "metadata": {},
   "outputs": [],
   "source": [
    "data1[\"message_text\"][2]"
   ]
  },
  {
   "cell_type": "code",
   "execution_count": null,
   "id": "87e658a3-e80f-4658-bf5b-45da2ac69a76",
   "metadata": {},
   "outputs": [],
   "source": []
  }
 ],
 "metadata": {
  "kernelspec": {
   "display_name": "Python 3",
   "language": "python",
   "name": "python3"
  },
  "language_info": {
   "codemirror_mode": {
    "name": "ipython",
    "version": 3
   },
   "file_extension": ".py",
   "mimetype": "text/x-python",
   "name": "python",
   "nbconvert_exporter": "python",
   "pygments_lexer": "ipython3",
   "version": "3.6.13"
  }
 },
 "nbformat": 4,
 "nbformat_minor": 5
}
