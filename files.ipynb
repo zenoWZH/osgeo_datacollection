{
 "cells": [
  {
   "cell_type": "code",
   "execution_count": 11,
   "id": "e39ad90d-389a-4362-aef4-f6375439805f",
   "metadata": {},
   "outputs": [],
   "source": [
    "import os,pg8000"
   ]
  },
  {
   "cell_type": "code",
   "execution_count": 12,
   "id": "00a38dc3-b519-4961-bb6c-055ad06d1ac4",
   "metadata": {},
   "outputs": [],
   "source": [
    "DIR = './raw'\n",
    "filelist_in=os.listdir(DIR)\n",
    "\n",
    "list_out=open(\"filelist.txt\",\"w\")\n",
    "for element in filelist_in:\n",
    "    if (\"-commit\" in element) or (\"-dev\" in element):\n",
    "        pjname = element.split(\"-\")[0]\n",
    "    elif (\"_commit\" in element) or (\"_dev\" in element):\n",
    "        pjname = element.split(\"_\")[0]\n",
    "    else:\n",
    "        pjname = element.split()[0]\n",
    "    list_out.write(DIR+\"/\"+element+\"\\n\")\n",
    "            \n",
    "list_out.close()"
   ]
  },
  {
   "cell_type": "code",
   "execution_count": 14,
   "id": "cfd46d5f-0920-4d68-88aa-fca3a21f5335",
   "metadata": {
    "scrolled": true,
    "tags": []
   },
   "outputs": [
    {
     "data": {
      "text/plain": [
       "['openlayers-dev',\n",
       " 'pywps-dev',\n",
       " '.ipynb_checkpoints',\n",
       " 'pycsw-devel',\n",
       " 'mapserver-commits',\n",
       " 'postgis-devel',\n",
       " 'gdal-dev',\n",
       " 'grass-commit',\n",
       " 'owslib-devel',\n",
       " 'mdal-developer',\n",
       " 'mapbender_commits',\n",
       " 'gisquick',\n",
       " 'fdo-internals',\n",
       " 'mapguide-internals',\n",
       " 'osgeo4w-dev',\n",
       " 'grass-dev',\n",
       " 'fdo-commits',\n",
       " 'mapbender_dev',\n",
       " 'pdal',\n",
       " 'zoo-psc',\n",
       " 'pgrouting-dev',\n",
       " 'osgeolive',\n",
       " 'pygeoapi',\n",
       " 'proj',\n",
       " 'mobilitydb-dev',\n",
       " 'geonode-devel',\n",
       " 'geos-devel',\n",
       " 'mapserver-dev',\n",
       " 'gvsig-desktop-devel',\n",
       " 'geos-commits',\n",
       " 'qgis-developer']"
      ]
     },
     "execution_count": 14,
     "metadata": {},
     "output_type": "execute_result"
    }
   ],
   "source": [
    "filelist_in"
   ]
  },
  {
   "cell_type": "code",
   "execution_count": null,
   "id": "1e0ced94-366e-4544-a320-4da3c75a7b57",
   "metadata": {},
   "outputs": [],
   "source": []
  },
  {
   "cell_type": "code",
   "execution_count": null,
   "id": "50a0ff26-cff1-4644-987f-4eaa671a8c39",
   "metadata": {},
   "outputs": [],
   "source": []
  }
 ],
 "metadata": {
  "kernelspec": {
   "display_name": "Python 3",
   "language": "python",
   "name": "python3"
  },
  "language_info": {
   "codemirror_mode": {
    "name": "ipython",
    "version": 3
   },
   "file_extension": ".py",
   "mimetype": "text/x-python",
   "name": "python",
   "nbconvert_exporter": "python",
   "pygments_lexer": "ipython3",
   "version": "3.6.13"
  }
 },
 "nbformat": 4,
 "nbformat_minor": 5
}
