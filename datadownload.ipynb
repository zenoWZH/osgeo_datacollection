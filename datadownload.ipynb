{
 "cells": [
  {
   "cell_type": "code",
   "execution_count": 1,
   "metadata": {},
   "outputs": [],
   "source": [
    "import urllib.request\n",
    "import re\n",
    "import os\n"
   ]
  },
  {
   "cell_type": "code",
   "execution_count": 2,
   "metadata": {},
   "outputs": [],
   "source": [
    "\n",
    "def pipermail_download(proj):\n",
    "\n",
    "    url = \"https://lists.osgeo.org/pipermail/\"+proj+\"/\"\n",
    "    pattern = '([0-9]+\\-[\\S]+\\.txt\\.gz)'\n",
    "\n",
    "    # pull request\n",
    "    headers = {'User-Agent', 'Mozilla/5.0 (Windows NT 6.1; Win64; x64) AppleWebKit/537.36 (KHTML, like Gecko) Chrome/64.0.3282.186 Safari/537.36'}\n",
    "    #opener = urllib.request.build_opener()\n",
    "    #opener.addheaders = [headers]\n",
    "    #content = opener.open(url).read().decode('utf8')\n",
    "    try:\n",
    "        content = urllib.request.urlopen(url).read().decode('utf-8')\n",
    "        # match regex and drop repetition\n",
    "        raw_hrefs = re.findall(pattern, content, 0)\n",
    "        hset = set(raw_hrefs)\n",
    "\n",
    "        # make directory\n",
    "        if not os.path.exists('./raw/'+proj):\n",
    "            os.makedirs('./raw/'+proj)\n",
    "\n",
    "                 # download links\n",
    "            for href in hset:\n",
    "                link = url + href\n",
    "                #print(link)\n",
    "                urllib.request.urlretrieve(link, os.path.join('./raw/', proj, href))\n",
    "    except BaseException as e :\n",
    "        print(\"Error in \"+proj)\n",
    "        print(e)\n",
    "                \n",
    "    print(\"Complete\", proj)"
   ]
  },
  {
   "cell_type": "code",
   "execution_count": 3,
   "metadata": {},
   "outputs": [],
   "source": [
    "#\"geonode-devel\"\n",
    "#\"pycsw-devel\"\n",
    "#proj = \"gvsig-desktop-devel\"\n",
    "#proj = \"qgis-developer\"\n",
    "#proj = \"grass-dev\"\n",
    "#proj = \"grass-commit\"\n",
    "\n",
    "osgeo_projects = [\"geonode-devel\", \n",
    "                    \"pycsw-devel\", \n",
    "                    \"gvsig-desktop-devel\", \n",
    "                    \"qgis-community-team\",\n",
    "                    \"qgis-developer\",\n",
    "                    \"qgis-trac\",\n",
    "                    \"qgis-qwc2\", \n",
    "                    \"grass-dev\", \n",
    "                    \"grass-commit\",\n",
    "                    \"grass-dev\",\n",
    "                    \"grass-psc\",\n",
    "                    \"grass-stats\",\n",
    "                    \"grass-gui\",\n",
    "                    \"grass-translations\",\n",
    "                    \"grass-web\",\n",
    "                    'osgeolive', \n",
    "                    'mapserver-dev', \n",
    "                    'mapserver-commits',\n",
    "                    \"mapserver-announce\",\n",
    "                    \"mapserver-inspire\",\n",
    "                    \"openlayers-trac\",\n",
    "                    'openlayers-dev', \n",
    "                    'mapbender_dev', \n",
    "                    'mapbender_commits', \n",
    "                    'pywps-dev', \n",
    "                    'proj',\n",
    "                    \"proj4php-devel\",\n",
    "                    \"gdal-advisory-council\",\n",
    "                    \"gdal-announce\", \n",
    "                    'gdal-dev', \n",
    "                    'gdal-commits', \n",
    "                    'geos-devel', \n",
    "                    'geos-commits', \n",
    "                    'postgis-devel',\n",
    "                    \"postgis-tickets\"\n",
    "                    ]\n"
   ]
  },
  {
   "cell_type": "code",
   "execution_count": 4,
   "metadata": {},
   "outputs": [
    {
     "name": "stdout",
     "output_type": "stream",
     "text": [
      "Complete geonode-devel\n",
      "Complete pycsw-devel\n",
      "Complete gvsig-desktop-devel\n",
      "Complete qgis-community-team\n",
      "Complete qgis-developer\n",
      "Complete qgis-trac\n",
      "Complete qgis-qwc2\n",
      "Complete grass-dev\n",
      "Complete grass-commit\n",
      "Complete grass-dev\n",
      "Complete grass-psc\n",
      "Complete grass-stats\n",
      "Complete grass-gui\n",
      "Complete grass-translations\n",
      "Complete grass-web\n",
      "Complete osgeolive\n",
      "Complete mapserver-dev\n",
      "Complete mapserver-commits\n",
      "Complete mapserver-announce\n",
      "Complete mapserver-inspire\n",
      "Complete openlayers-trac\n",
      "Complete openlayers-dev\n",
      "Complete mapbender_dev\n",
      "Complete mapbender_commits\n",
      "Complete pywps-dev\n",
      "Complete proj\n",
      "Complete proj4php-devel\n",
      "Complete gdal-advisory-council\n",
      "Complete gdal-announce\n",
      "Complete gdal-dev\n",
      "Error in gdal-commits\n",
      "HTTP Error 404: Not Found\n",
      "Complete gdal-commits\n",
      "Complete geos-devel\n",
      "Complete geos-commits\n",
      "Complete postgis-devel\n",
      "Complete postgis-tickets\n"
     ]
    }
   ],
   "source": [
    "for proj in osgeo_projects:\n",
    "    pipermail_download(proj)"
   ]
  },
  {
   "cell_type": "code",
   "execution_count": 5,
   "metadata": {},
   "outputs": [],
   "source": [
    "osgeo_community_projects = ['osgeo4w-dev',\n",
    "                            \"osgeo4w-trac\",\n",
    "                            'pygeoapi',\n",
    "                            \"proj4j\", \n",
    "                            'mapguide-internals',\n",
    "                            \"mapguide-announce\",\n",
    "                            \"mapguide-commits\",\n",
    "                            \"mapguide-trac\",\n",
    "                            'zoo-discuss', \n",
    "                            'mdal-developer', \n",
    "                            'owslib-devel', \n",
    "                            'fdo-internals', \n",
    "                            'fdo-commits',\n",
    "                            \"fdo-announce\",\n",
    "                            \"fdo-internals\", \n",
    "                            'pgrouting-dev', \n",
    "                            'mobilitydb-dev',\n",
    "                            \"owslib-devel\",\n",
    "                            \"zoo-discuss\"\n",
    "                            ]"
   ]
  },
  {
   "cell_type": "code",
   "execution_count": 6,
   "metadata": {},
   "outputs": [
    {
     "name": "stdout",
     "output_type": "stream",
     "text": [
      "Complete osgeo4w-dev\n",
      "Complete osgeo4w-trac\n",
      "Complete pygeoapi\n",
      "Complete proj4j\n",
      "Complete mapguide-internals\n",
      "Complete mapguide-announce\n",
      "Complete mapguide-commits\n",
      "Complete mapguide-trac\n",
      "Complete zoo-discuss\n",
      "Complete mdal-developer\n",
      "Complete owslib-devel\n",
      "Complete fdo-internals\n",
      "Complete fdo-commits\n",
      "Complete fdo-announce\n",
      "Complete fdo-internals\n",
      "Complete pgrouting-dev\n",
      "Complete mobilitydb-dev\n",
      "Complete owslib-devel\n",
      "Complete zoo-discuss\n"
     ]
    }
   ],
   "source": [
    "for proj in osgeo_community_projects:\n",
    "    pipermail_download(proj)"
   ]
  },
  {
   "cell_type": "code",
   "execution_count": 7,
   "metadata": {},
   "outputs": [],
   "source": [
    "other_projects = ['gisquick',\n",
    "                  \"oskari-user\",\n",
    "                  \"mapproxy-dev\",\n",
    "                  \"metacrs\",\n",
    "                  \"gisquick\",\n",
    "                  'pdal']"
   ]
  },
  {
   "cell_type": "code",
   "execution_count": 8,
   "metadata": {},
   "outputs": [
    {
     "name": "stdout",
     "output_type": "stream",
     "text": [
      "Complete gisquick\n",
      "Complete oskari-user\n",
      "Complete mapproxy-dev\n",
      "Complete metacrs\n",
      "Complete gisquick\n",
      "Complete pdal\n"
     ]
    }
   ],
   "source": [
    "for proj in other_projects:\n",
    "    pipermail_download(proj)"
   ]
  },
  {
   "cell_type": "code",
   "execution_count": null,
   "metadata": {},
   "outputs": [],
   "source": []
  }
 ],
 "metadata": {
  "interpreter": {
   "hash": "a673315fe2889f1938749863cb31942b8222368b7a28bca37fa9b828316f0ec1"
  },
  "kernelspec": {
   "display_name": "Python 3.6.13 64-bit ('3.6.13': pyenv)",
   "name": "python3"
  },
  "language_info": {
   "codemirror_mode": {
    "name": "ipython",
    "version": 3
   },
   "file_extension": ".py",
   "mimetype": "text/x-python",
   "name": "python",
   "nbconvert_exporter": "python",
   "pygments_lexer": "ipython3",
   "version": "3.6.13"
  }
 },
 "nbformat": 4,
 "nbformat_minor": 5
}
