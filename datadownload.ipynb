{
 "cells": [
  {
   "cell_type": "code",
   "execution_count": 1,
   "source": [
    "import urllib.request\n",
    "import re\n",
    "import os\n"
   ],
   "outputs": [],
   "metadata": {}
  },
  {
   "cell_type": "code",
   "execution_count": 5,
   "source": [
    "\n",
    "def pipermail_download(proj):\n",
    "\n",
    "    url = \"https://lists.osgeo.org/pipermail/\"+proj+\"/\"\n",
    "    pattern = '([0-9]+\\-[\\S]+\\.txt\\.gz)'\n",
    "\n",
    "    # pull request\n",
    "    headers = {'User-Agent', 'Mozilla/5.0 (Windows NT 6.1; Win64; x64) AppleWebKit/537.36 (KHTML, like Gecko) Chrome/64.0.3282.186 Safari/537.36'}\n",
    "    #opener = urllib.request.build_opener()\n",
    "    #opener.addheaders = [headers]\n",
    "    #content = opener.open(url).read().decode('utf8')\n",
    "    try:\n",
    "        content = urllib.request.urlopen(url).read().decode('utf-8')\n",
    "        # match regex and drop repetition\n",
    "        raw_hrefs = re.findall(pattern, content, 0)\n",
    "        hset = set(raw_hrefs)\n",
    "\n",
    "        # make directory\n",
    "        if not os.path.exists('./raw/'+proj):\n",
    "            os.makedirs('./raw/'+proj)\n",
    "\n",
    "                 # download links\n",
    "            for href in hset:\n",
    "                link = url + href\n",
    "                #print(link)\n",
    "                urllib.request.urlretrieve(link, os.path.join('./raw/', proj, href))\n",
    "    except BaseException as e :\n",
    "        print(\"Error in \"+proj)\n",
    "        print(e)\n",
    "                \n",
    "    print(\"Complete\", proj)"
   ],
   "outputs": [],
   "metadata": {}
  },
  {
   "cell_type": "code",
   "execution_count": 3,
   "source": [
    "#\"geonode-devel\"\n",
    "#\"pycsw-devel\"\n",
    "#proj = \"gvsig-desktop-devel\"\n",
    "#proj = \"qgis-developer\"\n",
    "#proj = \"grass-dev\"\n",
    "#proj = \"grass-commit\"\n",
    "\n",
    "osgeo_projects = [\"geonode-devel\", \n",
    "                    \"pycsw-devel\", \n",
    "                    \"gvsig-desktop-devel\", \n",
    "                    \"qgis-developer\", \n",
    "                    \"grass-dev\", \n",
    "                    \"grass-commit\",\n",
    "                     'osgeolive', \n",
    "                     'mapserver-dev', \n",
    "                     'mapserver-commits', \n",
    "                     'openlayers-dev', \n",
    "                     'mapbender_dev', \n",
    "                     'mapbender_commits', \n",
    "                     'pywps-dev', 'proj', \n",
    "                     'gdal-dev', \n",
    "                     'gdal-commits', \n",
    "                     'geos-devel', \n",
    "                     'geos-commits', \n",
    "                     'postgis-devel'  ]\n"
   ],
   "outputs": [],
   "metadata": {}
  },
  {
   "cell_type": "code",
   "execution_count": 4,
   "source": [
    "for proj in osgeo_projects:\n",
    "    pipermail_download(proj)"
   ],
   "outputs": [
    {
     "output_type": "stream",
     "name": "stdout",
     "text": [
      "Complete geonode-devel\n",
      "Complete pycsw-devel\n",
      "Complete gvsig-desktop-devel\n",
      "Complete qgis-developer\n",
      "Complete grass-dev\n",
      "Complete grass-commit\n",
      "Complete osgeolive\n",
      "Complete mapserver-dev\n",
      "Complete mapserver-commits\n",
      "Complete openlayers-dev\n",
      "Complete mapbender_dev\n",
      "Complete mapbender_commits\n",
      "Complete pywps-dev\n",
      "Complete proj\n",
      "Complete gdal-dev\n",
      "Error in gdal-commits\n",
      "HTTP Error 404: Not Found\n",
      "Complete gdal-commits\n",
      "Complete geos-devel\n",
      "Complete geos-commits\n",
      "Complete postgis-devel\n"
     ]
    }
   ],
   "metadata": {}
  },
  {
   "cell_type": "code",
   "execution_count": 6,
   "source": [
    "osgeo_community_projects = ['osgeo4w-dev', \n",
    "                            'pygeoapi', \n",
    "                            'mapguide-internals', \n",
    "                            'zoo-psc',\n",
    "                            'zoo-discuss', \n",
    "                            'mdal-developer', \n",
    "                            'owslib-devel', \n",
    "                            'fdo-internals', \n",
    "                            'fdo-commits', \n",
    "                            'pgrouting-dev', \n",
    "                            'mobilitydb-dev' ]"
   ],
   "outputs": [],
   "metadata": {}
  },
  {
   "cell_type": "code",
   "execution_count": 7,
   "source": [
    "for proj in osgeo_community_projects:\n",
    "    pipermail_download(proj)"
   ],
   "outputs": [
    {
     "output_type": "stream",
     "name": "stdout",
     "text": [
      "Complete osgeo4w-dev\n",
      "Complete pygeoapi\n",
      "Complete mapguide-internals\n",
      "Complete zoo-psc\n",
      "Complete zoo-discuss\n",
      "Complete mdal-developer\n",
      "Complete owslib-devel\n",
      "Complete fdo-internals\n",
      "Complete fdo-commits\n",
      "Complete pgrouting-dev\n",
      "Complete mobilitydb-dev\n"
     ]
    }
   ],
   "metadata": {}
  },
  {
   "cell_type": "code",
   "execution_count": 7,
   "source": [
    "other_projects = ['gisquick', 'pdal']"
   ],
   "outputs": [],
   "metadata": {}
  },
  {
   "cell_type": "code",
   "execution_count": 8,
   "source": [
    "for proj in other_projects:\n",
    "    pipermail_download(proj)"
   ],
   "outputs": [
    {
     "output_type": "stream",
     "name": "stdout",
     "text": [
      "Complete gisquick\n",
      "Complete pdal\n"
     ]
    }
   ],
   "metadata": {}
  },
  {
   "cell_type": "code",
   "execution_count": null,
   "source": [],
   "outputs": [],
   "metadata": {}
  }
 ],
 "metadata": {
  "kernelspec": {
   "name": "python3",
   "display_name": "Python 3.6.13 64-bit ('3.6.13': pyenv)"
  },
  "language_info": {
   "codemirror_mode": {
    "name": "ipython",
    "version": 3
   },
   "file_extension": ".py",
   "mimetype": "text/x-python",
   "name": "python",
   "nbconvert_exporter": "python",
   "pygments_lexer": "ipython3",
   "version": "3.6.13"
  },
  "interpreter": {
   "hash": "98373a4284e4a564d4f2df06473808b29be6466d133612bf3acd704edfd754d1"
  }
 },
 "nbformat": 4,
 "nbformat_minor": 5
}